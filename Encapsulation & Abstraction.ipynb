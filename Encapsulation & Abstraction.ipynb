{
 "cells": [
  {
   "cell_type": "code",
   "execution_count": 3,
   "metadata": {},
   "outputs": [
    {
     "name": "stdout",
     "output_type": "stream",
     "text": [
      "Temitope\n",
      "25\n",
      "Adeola\n",
      "20\n"
     ]
    }
   ],
   "source": [
    "class Player:\n",
    "    def __init__(self, name, age):\n",
    "        self.name = name \n",
    "        self.age = age\n",
    "        \n",
    "player1 = Player('Temitope', 25)\n",
    "\n",
    "print(player1.name)\n",
    "print(player1.age)\n",
    "\n",
    "\n",
    "player2 = {\"name\": \"Adeola\", \"age\": 20}\n",
    "print(player2['name'])\n",
    "print(player2['age'])"
   ]
  },
  {
   "cell_type": "code",
   "execution_count": null,
   "metadata": {},
   "outputs": [],
   "source": []
  }
 ],
 "metadata": {
  "kernelspec": {
   "display_name": "Python 3",
   "language": "python",
   "name": "python3"
  },
  "language_info": {
   "codemirror_mode": {
    "name": "ipython",
    "version": 3
   },
   "file_extension": ".py",
   "mimetype": "text/x-python",
   "name": "python",
   "nbconvert_exporter": "python",
   "pygments_lexer": "ipython3",
   "version": "3.7.0"
  }
 },
 "nbformat": 4,
 "nbformat_minor": 2
}
