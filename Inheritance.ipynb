{
 "cells": [
  {
   "cell_type": "code",
   "execution_count": null,
   "metadata": {},
   "outputs": [],
   "source": []
  },
  {
   "cell_type": "code",
   "execution_count": 7,
   "metadata": {},
   "outputs": [
    {
     "name": "stdout",
     "output_type": "stream",
     "text": [
      "Merlin is attacking with the power of 50\n",
      "Robin has 100 arrows left.\n"
     ]
    }
   ],
   "source": [
    "class User():\n",
    "    def sign_in(self):\n",
    "        print('logged-in')\n",
    "        \n",
    "class Wizards(User):\n",
    "    def __init__(self, name, power):\n",
    "        self.name = name \n",
    "        self.power = power\n",
    "        \n",
    "    def attack(self):\n",
    "        print(f'{self.name} is attacking with the power of {self.power}')\n",
    "                 \n",
    "              \n",
    "class Archer(User):\n",
    "    def __init__(self, name, num_arrow):\n",
    "        self.name = name\n",
    "        self.num_arrow = num_arrow\n",
    "        \n",
    "    def attack(self):\n",
    "        print(f'{self.name} has {self.num_arrow} arrows left.')\n",
    "    \n",
    "\n",
    "wizard1 = Wizards('Merlin', 50)\n",
    "archer1 = Archer('Robin', 100)\n",
    "wizard1.attack()\n",
    "archer1.attack()"
   ]
  },
  {
   "cell_type": "code",
   "execution_count": null,
   "metadata": {},
   "outputs": [],
   "source": []
  }
 ],
 "metadata": {
  "kernelspec": {
   "display_name": "Python 3",
   "language": "python",
   "name": "python3"
  },
  "language_info": {
   "codemirror_mode": {
    "name": "ipython",
    "version": 3
   },
   "file_extension": ".py",
   "mimetype": "text/x-python",
   "name": "python",
   "nbconvert_exporter": "python",
   "pygments_lexer": "ipython3",
   "version": "3.7.0"
  }
 },
 "nbformat": 4,
 "nbformat_minor": 2
}
