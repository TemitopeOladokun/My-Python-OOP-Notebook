{
 "cells": [
  {
   "cell_type": "code",
   "execution_count": 26,
   "metadata": {},
   "outputs": [],
   "source": [
    "class Employee:\n",
    "    \n",
    "    num_of_employees = 0\n",
    "    raise_amount = 1.04\n",
    "    \n",
    "    def __init__(self, first, last, pay):\n",
    "        self.first = first\n",
    "        self.last = last\n",
    "        self.pay = pay\n",
    "        self.email = first + '.'+ last + '@gmail.com' \n",
    "        \n",
    "        Employee.num_of_employees +=1\n",
    "    def full_name(self):\n",
    "        return '{} {}'.format(self.first, self.last) \n",
    "    \n",
    "    def increase_pay(self):\n",
    "        self.pay = int(self.pay * Employee.raise_amount)   #accessing through the class\n",
    "        #self.pay = int(self.pay * self.raise_amount)  #accessing through the instance of a class\n",
    "    \n",
    "    @classmethod  \n",
    "    def raise_amount(cls, amount):\n",
    "        cls.raise_amount = amount"
   ]
  },
  {
   "cell_type": "code",
   "execution_count": 22,
   "metadata": {},
   "outputs": [],
   "source": [
    "emp_1 = Employee('temi', 'tope', 200)\n",
    "emp_2 = Employee('ola', 'yemi', 200)"
   ]
  },
  {
   "cell_type": "code",
   "execution_count": 27,
   "metadata": {},
   "outputs": [],
   "source": [
    "Employee.raise_amount(1.05)   #run this line before the below code so that it runs the @classmethod"
   ]
  },
  {
   "cell_type": "code",
   "execution_count": 28,
   "metadata": {},
   "outputs": [
    {
     "name": "stdout",
     "output_type": "stream",
     "text": [
      "208\n",
      "218\n"
     ]
    }
   ],
   "source": [
    "print(emp_1.pay)\n",
    "emp_1.increase_pay()\n",
    "print(emp_1.pay)"
   ]
  },
  {
   "cell_type": "code",
   "execution_count": 24,
   "metadata": {},
   "outputs": [
    {
     "name": "stdout",
     "output_type": "stream",
     "text": [
      "{'first': 'temi', 'last': 'tope', 'pay': 208, 'email': 'temi.tope@gmail.com'}\n"
     ]
    }
   ],
   "source": [
    "print(emp_1.__dict__)"
   ]
  },
  {
   "cell_type": "code",
   "execution_count": 25,
   "metadata": {},
   "outputs": [
    {
     "name": "stdout",
     "output_type": "stream",
     "text": [
      "2\n"
     ]
    }
   ],
   "source": [
    "print(Employee.num_of_employees)"
   ]
  },
  {
   "cell_type": "code",
   "execution_count": 18,
   "metadata": {},
   "outputs": [
    {
     "name": "stdout",
     "output_type": "stream",
     "text": [
      "temi.tope@gmail.com\n",
      "temi tope\n"
     ]
    }
   ],
   "source": [
    "print(emp_1.email)\n",
    "print(emp_1.full_name())"
   ]
  },
  {
   "cell_type": "code",
   "execution_count": null,
   "metadata": {},
   "outputs": [],
   "source": []
  }
 ],
 "metadata": {
  "kernelspec": {
   "display_name": "Python 3",
   "language": "python",
   "name": "python3"
  },
  "language_info": {
   "codemirror_mode": {
    "name": "ipython",
    "version": 3
   },
   "file_extension": ".py",
   "mimetype": "text/x-python",
   "name": "python",
   "nbconvert_exporter": "python",
   "pygments_lexer": "ipython3",
   "version": "3.7.0"
  }
 },
 "nbformat": 4,
 "nbformat_minor": 2
}
