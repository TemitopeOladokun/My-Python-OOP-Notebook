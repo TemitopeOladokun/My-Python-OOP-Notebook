{
 "cells": [
  {
   "cell_type": "code",
   "execution_count": 1,
   "metadata": {},
   "outputs": [
    {
     "name": "stdout",
     "output_type": "stream",
     "text": [
      "<class 'type'>\n"
     ]
    }
   ],
   "source": [
    "class BigObject:\n",
    "  pass\n",
    "\n",
    "print(type(BigObject))"
   ]
  },
  {
   "cell_type": "code",
   "execution_count": 2,
   "metadata": {},
   "outputs": [
    {
     "name": "stdout",
     "output_type": "stream",
     "text": [
      "<class '__main__.BigObject'>\n"
     ]
    }
   ],
   "source": [
    "class BigObject:\n",
    "  pass\n",
    "\n",
    "obj1 = BigObject()\n",
    "\n",
    "print(type(obj1))"
   ]
  },
  {
   "cell_type": "code",
   "execution_count": 18,
   "metadata": {},
   "outputs": [],
   "source": [
    "class Transport:\n",
    "    #class object attribute\n",
    "    Drivers_License = True     #This value remains constant\n",
    "    \n",
    "    def __init__(self, mode, source):   #init or constructor function\n",
    "        self.mode = mode    #attributes\n",
    "        self.source = source\n",
    "    def velocity(self):\n",
    "        print(\"The veocity is measured in Km/hr\")\n",
    "        return \"velocity\"\n"
   ]
  },
  {
   "cell_type": "code",
   "execution_count": 19,
   "metadata": {},
   "outputs": [
    {
     "name": "stdout",
     "output_type": "stream",
     "text": [
      "Cars\n",
      "Diesel\n",
      "The veocity is measured in Km/hr\n",
      "velocity\n",
      "True\n"
     ]
    }
   ],
   "source": [
    "mode_1 = Transport(\"Cars\", \"Diesel\")\n",
    "print(mode_1.mode)\n",
    "print(mode_1.source)\n",
    "print(mode_1.velocity())\n",
    "print(mode_1.Drivers_License)"
   ]
  },
  {
   "cell_type": "code",
   "execution_count": null,
   "metadata": {},
   "outputs": [],
   "source": []
  },
  {
   "cell_type": "code",
   "execution_count": 25,
   "metadata": {},
   "outputs": [
    {
     "name": "stdout",
     "output_type": "stream",
     "text": [
      "The oldest cat is 5 years old.\n"
     ]
    }
   ],
   "source": [
    "class Cat:\n",
    "    species = 'mammal'\n",
    "    def __init__(self, name, age):\n",
    "        self.name = name\n",
    "        self.age = age\n",
    "\n",
    "\n",
    "# Instantiate the Cat object with 3 cats\n",
    "peanut = Cat(\"Peanut\", 3)\n",
    "garfield = Cat(\"Garfield\", 5)\n",
    "snickers = Cat(\"Snickers\", 1)\n",
    "\n",
    "\n",
    "# Find the oldest cat\n",
    "def get_oldest_cat(*age):\n",
    "    return max(age)\n",
    "\n",
    "\n",
    "# Output\n",
    "print(f\"The oldest cat is {get_oldest_cat(peanut.age, garfield.age, snickers.age)} years old.\")"
   ]
  },
  {
   "cell_type": "code",
   "execution_count": null,
   "metadata": {},
   "outputs": [],
   "source": [
    "class Cat:\n",
    "    species = 'mammal'\n",
    "    def __init__(self, name, age):\n",
    "        self.name = name\n",
    "        self.age = age\n",
    "\n",
    "\n",
    "# 1 Instantiate the Cat object with 3 cats\n",
    "\n",
    "cat1 = Cat(\"Sam\", \"5\")\n",
    "cat2 = Cat(\"Pam\", \"6\")\n",
    "cat3 = Cat(\"Tam\", \"7\")\n",
    "\n",
    "# 2 Create a function that finds the oldest cat\n",
    "\n",
    "def oldest(*age):\n",
    "  return max(age)\n",
    "\n",
    "# 3 Print out: \"The oldest cat is x years old.\". x will be the oldest cat age by using the function in #2\n",
    "#print(f\"The oldest age is {oldest(cat1.age, cat2.age,cat3.age)}\")\n",
    "print('The oldest age is {}'.format(oldest(cat1.age, cat2.age,cat3.age)))"
   ]
  }
 ],
 "metadata": {
  "kernelspec": {
   "display_name": "Python 3",
   "language": "python",
   "name": "python3"
  },
  "language_info": {
   "codemirror_mode": {
    "name": "ipython",
    "version": 3
   },
   "file_extension": ".py",
   "mimetype": "text/x-python",
   "name": "python",
   "nbconvert_exporter": "python",
   "pygments_lexer": "ipython3",
   "version": "3.7.0"
  }
 },
 "nbformat": 4,
 "nbformat_minor": 2
}
