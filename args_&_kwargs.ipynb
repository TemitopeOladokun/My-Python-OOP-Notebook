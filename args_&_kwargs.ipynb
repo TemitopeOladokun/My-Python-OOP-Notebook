{
  "nbformat": 4,
  "nbformat_minor": 0,
  "metadata": {
    "kernelspec": {
      "display_name": "Python 3",
      "language": "python",
      "name": "python3"
    },
    "language_info": {
      "codemirror_mode": {
        "name": "ipython",
        "version": 3
      },
      "file_extension": ".py",
      "mimetype": "text/x-python",
      "name": "python",
      "nbconvert_exporter": "python",
      "pygments_lexer": "ipython3",
      "version": "3.7.0"
    },
    "colab": {
      "name": "args & kwargs.ipynb",
      "provenance": []
    }
  },
  "cells": [
    {
      "cell_type": "code",
      "metadata": {
        "id": "rxs2L0daqg_l",
        "colab_type": "code",
        "colab": {}
      },
      "source": [
        "import time"
      ],
      "execution_count": null,
      "outputs": []
    },
    {
      "cell_type": "code",
      "metadata": {
        "id": "6o3cBvdoqg_r",
        "colab_type": "code",
        "colab": {}
      },
      "source": [
        "def timer(func, *args):\n",
        "    start = time.clock()\n",
        "    for i in range(1000):\n",
        "        func(*args)\n",
        "        \n",
        "    return time.clock() - start\n",
        "        \n",
        "    "
      ],
      "execution_count": null,
      "outputs": []
    },
    {
      "cell_type": "code",
      "metadata": {
        "id": "f6d3CJAdqg_1",
        "colab_type": "code",
        "colab": {}
      },
      "source": [
        "import time, sys \n",
        "timer = time.clock if sys.platform[:3] == 'win' else time.time"
      ],
      "execution_count": null,
      "outputs": []
    },
    {
      "cell_type": "code",
      "metadata": {
        "id": "bWh-O47Xqg_5",
        "colab_type": "code",
        "colab": {}
      },
      "source": [
        "def total(reps, func, *pargs, **kargs):\n",
        "    repslist = list(range(reps))\n",
        "    start = timer() \n",
        "    for i in repslist:        \n",
        "        ret = func(*pargs, **kargs)    \n",
        "        elapsed = timer() - start    \n",
        "        \n",
        "    return (elapsed, ret)\n"
      ],
      "execution_count": null,
      "outputs": []
    },
    {
      "cell_type": "code",
      "metadata": {
        "id": "pxhW2Nufqg_9",
        "colab_type": "code",
        "colab": {}
      },
      "source": [
        "def bestof(reps, func, *pargs, **kargs):\n",
        "    best = 2 ** 32                               \n",
        "    for i in range(reps):\n",
        "        start = timer()        \n",
        "        ret = func(*pargs, **kargs)        \n",
        "        elapsed = timer() - start\n",
        "        if elapsed < best: \n",
        "            best = elapsed        \n",
        "                \n",
        "    return (best, ret)\n"
      ],
      "execution_count": null,
      "outputs": []
    },
    {
      "cell_type": "code",
      "metadata": {
        "id": "XgpLMcdyqhAB",
        "colab_type": "code",
        "colab": {}
      },
      "source": [
        "def bestoftotal(reps1, reps2, func, *pargs, **kargs):\n",
        "    \n",
        "     return bestof(reps1, total, reps2, func, *pargs, **kargs) "
      ],
      "execution_count": null,
      "outputs": []
    },
    {
      "cell_type": "code",
      "metadata": {
        "id": "8-_gN0KwqhAG",
        "colab_type": "code",
        "colab": {}
      },
      "source": [
        ""
      ],
      "execution_count": null,
      "outputs": []
    },
    {
      "cell_type": "markdown",
      "metadata": {
        "id": "ncbaQ-H8qhAJ",
        "colab_type": "text"
      },
      "source": [
        "### *arg is used for non-keyworded variable length argument list \n",
        "\n",
        "##### It is used when the number of variable is not known"
      ]
    },
    {
      "cell_type": "code",
      "metadata": {
        "id": "rIw4KcLWqhAK",
        "colab_type": "code",
        "colab": {},
        "outputId": "210555e1-7976-497d-9ca7-b18b211d3d50"
      },
      "source": [
        "def test_var_args(f_arg, *argv):\n",
        "    print(\"first normal arg:\", f_arg)\n",
        "    for arg in argv:\n",
        "        print(\"another arg through *argv:\", arg)\n",
        "\n",
        "test_var_args('yasoob', 'python', 'eggs', 'test')"
      ],
      "execution_count": null,
      "outputs": [
        {
          "output_type": "stream",
          "text": [
            "first normal arg: yasoob\n",
            "another arg through *argv: python\n",
            "another arg through *argv: eggs\n",
            "another arg through *argv: test\n"
          ],
          "name": "stdout"
        }
      ]
    },
    {
      "cell_type": "code",
      "metadata": {
        "id": "M1wkcWNrqhAO",
        "colab_type": "code",
        "colab": {}
      },
      "source": [
        ""
      ],
      "execution_count": null,
      "outputs": []
    },
    {
      "cell_type": "markdown",
      "metadata": {
        "id": "gwajt3D-qhAQ",
        "colab_type": "text"
      },
      "source": [
        "### **kwargs is used for named-keyword."
      ]
    },
    {
      "cell_type": "code",
      "metadata": {
        "id": "-JwgMQ-0qhAR",
        "colab_type": "code",
        "colab": {},
        "outputId": "c83d8d39-df17-40dd-8287-47825dab8998"
      },
      "source": [
        "def greet_me(**kwargs):\n",
        "    for key, value in kwargs.items():\n",
        "        print(\"{0} = {1}\".format(key, value))\n",
        "        \n",
        "greet_me(name=\"yasoob\")"
      ],
      "execution_count": null,
      "outputs": [
        {
          "output_type": "stream",
          "text": [
            "name = yasoob\n"
          ],
          "name": "stdout"
        }
      ]
    },
    {
      "cell_type": "code",
      "metadata": {
        "id": "gFc6SJflqhAW",
        "colab_type": "code",
        "colab": {}
      },
      "source": [
        ""
      ],
      "execution_count": null,
      "outputs": []
    },
    {
      "cell_type": "code",
      "metadata": {
        "id": "4IGRhawKqhAa",
        "colab_type": "code",
        "colab": {},
        "outputId": "c21d2576-6e87-4aa6-f477-3432edfcc63a"
      },
      "source": [
        "def test_arg(arg1, arg2, arg3):\n",
        "    print(\"arg1:\", arg1)\n",
        "    print(\"arg2:\", arg2)\n",
        "    print(\"arg3:\", arg3)\n",
        "    \n",
        "args = (\"two\", 24, 60)\n",
        "test_arg(*args)"
      ],
      "execution_count": null,
      "outputs": [
        {
          "output_type": "stream",
          "text": [
            "arg1: two\n",
            "arg2: 24\n",
            "arg3: 60\n"
          ],
          "name": "stdout"
        }
      ]
    },
    {
      "cell_type": "code",
      "metadata": {
        "id": "rb3m3xngqhAd",
        "colab_type": "code",
        "colab": {}
      },
      "source": [
        ""
      ],
      "execution_count": null,
      "outputs": []
    },
    {
      "cell_type": "code",
      "metadata": {
        "id": "8qjmkwR9qhAg",
        "colab_type": "code",
        "colab": {},
        "outputId": "464f96cb-e6c1-4ad2-eef7-d3019d816946"
      },
      "source": [
        "def test_arg(arg1, arg2, arg3):\n",
        "    print(\"arg1:\", arg1)\n",
        "    print(\"arg2:\", arg2)\n",
        "    print(\"arg3:\", arg3)\n",
        "\n",
        "kwargs = {\"arg3\": 3, \"arg2\": \"two\", \"arg1\": 5}\n",
        "test_arg(**kwargs)"
      ],
      "execution_count": null,
      "outputs": [
        {
          "output_type": "stream",
          "text": [
            "arg1: 5\n",
            "arg2: two\n",
            "arg3: 3\n"
          ],
          "name": "stdout"
        }
      ]
    },
    {
      "cell_type": "code",
      "metadata": {
        "id": "d_JJuS9KqhAj",
        "colab_type": "code",
        "colab": {}
      },
      "source": [
        ""
      ],
      "execution_count": null,
      "outputs": []
    },
    {
      "cell_type": "code",
      "metadata": {
        "id": "jlDgbs4wqhAn",
        "colab_type": "code",
        "colab": {}
      },
      "source": [
        ""
      ],
      "execution_count": null,
      "outputs": []
    },
    {
      "cell_type": "code",
      "metadata": {
        "id": "3E4NeIwKqhAq",
        "colab_type": "code",
        "colab": {}
      },
      "source": [
        ""
      ],
      "execution_count": null,
      "outputs": []
    },
    {
      "cell_type": "code",
      "metadata": {
        "id": "NPWFUVlfqhAt",
        "colab_type": "code",
        "colab": {}
      },
      "source": [
        ""
      ],
      "execution_count": null,
      "outputs": []
    },
    {
      "cell_type": "code",
      "metadata": {
        "id": "WUCsRoqvqhAx",
        "colab_type": "code",
        "colab": {}
      },
      "source": [
        ""
      ],
      "execution_count": null,
      "outputs": []
    }
  ]
}