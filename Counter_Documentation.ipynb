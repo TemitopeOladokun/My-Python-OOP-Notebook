{
  "nbformat": 4,
  "nbformat_minor": 0,
  "metadata": {
    "colab": {
      "name": "Counter Documentation.ipynb",
      "provenance": [],
      "collapsed_sections": [
        "K7tcBlaSDSKo"
      ],
      "include_colab_link": true
    },
    "kernelspec": {
      "name": "python3",
      "display_name": "Python 3"
    }
  },
  "cells": [
    {
      "cell_type": "markdown",
      "metadata": {
        "id": "view-in-github",
        "colab_type": "text"
      },
      "source": [
        "<a href=\"https://colab.research.google.com/github/TemitopeOladokun/My-Python-OOP-Notebook/blob/master/Counter_Documentation.ipynb\" target=\"_parent\"><img src=\"https://colab.research.google.com/assets/colab-badge.svg\" alt=\"Open In Colab\"/></a>"
      ]
    },
    {
      "cell_type": "code",
      "metadata": {
        "id": "qqofQomy_jeY",
        "colab_type": "code",
        "outputId": "7ff37895-d94d-4437-b656-0065f7374adf",
        "colab": {
          "base_uri": "https://localhost:8080/",
          "height": 34
        }
      },
      "source": [
        "from collections import Counter\n",
        "\n",
        "cnt = Counter()\n",
        "for word in ['red', 'blue', 'red', 'green', 'blue', 'blue']:\n",
        "     cnt[word] += 1\n",
        "cnt\n",
        "#Counter({'blue': 3, 'red': 2, 'green': 1})"
      ],
      "execution_count": 0,
      "outputs": [
        {
          "output_type": "execute_result",
          "data": {
            "text/plain": [
              "Counter({'blue': 3, 'green': 1, 'red': 2})"
            ]
          },
          "metadata": {
            "tags": []
          },
          "execution_count": 2
        }
      ]
    },
    {
      "cell_type": "code",
      "metadata": {
        "id": "COh-TwUl_6K0",
        "colab_type": "code",
        "colab": {}
      },
      "source": [
        "import re\n",
        "words = re.findall(r'\\w+', open('hamlet.txt').read().lower())\n",
        "Counter(words).most_common(10)\n",
        "#[('the', 1143), ('and', 966), ('to', 762), ('of', 669), ('i', 631),\n",
        " #('you', 554),  ('a', 546), ('my', 514), ('hamlet', 471), ('in', 451)]"
      ],
      "execution_count": 0,
      "outputs": []
    },
    {
      "cell_type": "code",
      "metadata": {
        "id": "HdiQPaghAsJ2",
        "colab_type": "code",
        "outputId": "142c9e0f-e0d0-4551-eb0a-0aab193b4d4f",
        "colab": {
          "base_uri": "https://localhost:8080/",
          "height": 34
        }
      },
      "source": [
        "# This code returns the most common 4 elements\n",
        "\n",
        "Counter('abracadabra').most_common(4)"
      ],
      "execution_count": 0,
      "outputs": [
        {
          "output_type": "execute_result",
          "data": {
            "text/plain": [
              "[('a', 5), ('b', 2), ('r', 2), ('c', 1)]"
            ]
          },
          "metadata": {
            "tags": []
          },
          "execution_count": 4
        }
      ]
    },
    {
      "cell_type": "code",
      "metadata": {
        "id": "vA-cRBvkkHQj",
        "colab_type": "code",
        "colab": {}
      },
      "source": [
        "c = Counter()                           # a new, empty counter\n",
        "c = Counter('gallahad')                 # a new counter from an iterable\n",
        "c = Counter({'red': 4, 'blue': 2})      # a new counter from a mapping\n",
        "c = Counter(cats=4, dogs=8)             # a new counter from keyword args"
      ],
      "execution_count": 0,
      "outputs": []
    },
    {
      "cell_type": "code",
      "metadata": {
        "id": "XmTg0ZZ1sg6c",
        "colab_type": "code",
        "outputId": "cb96b49e-040e-47c0-b794-6869bcc45606",
        "colab": {
          "base_uri": "https://localhost:8080/",
          "height": 34
        }
      },
      "source": [
        "c"
      ],
      "execution_count": 0,
      "outputs": [
        {
          "output_type": "execute_result",
          "data": {
            "text/plain": [
              "Counter({'cats': 4, 'dogs': 8})"
            ]
          },
          "metadata": {
            "tags": []
          },
          "execution_count": 11
        }
      ]
    },
    {
      "cell_type": "markdown",
      "metadata": {
        "id": "jdrff2lntlUg",
        "colab_type": "text"
      },
      "source": [
        "### Counting the missing element. Missing elements are equivalent to Zero"
      ]
    },
    {
      "cell_type": "code",
      "metadata": {
        "id": "0Pb4A9J7siQY",
        "colab_type": "code",
        "outputId": "d75d87e0-34a3-4da0-bca1-f119ba54736a",
        "colab": {
          "base_uri": "https://localhost:8080/",
          "height": 34
        }
      },
      "source": [
        "c = Counter(['eggs', 'ham'])\n",
        "c['bacon']                              # count of a missing element is zero\n"
      ],
      "execution_count": 0,
      "outputs": [
        {
          "output_type": "execute_result",
          "data": {
            "text/plain": [
              "0"
            ]
          },
          "metadata": {
            "tags": []
          },
          "execution_count": 24
        }
      ]
    },
    {
      "cell_type": "markdown",
      "metadata": {
        "id": "7cGUeok5tEhe",
        "colab_type": "text"
      },
      "source": [
        "### Deleting an entry "
      ]
    },
    {
      "cell_type": "code",
      "metadata": {
        "id": "8T0E-VdasyBY",
        "colab_type": "code",
        "outputId": "09e45f1d-b1f3-4154-ab30-18f278354e67",
        "colab": {
          "base_uri": "https://localhost:8080/",
          "height": 34
        }
      },
      "source": [
        "c['sausage'] = 0                        # counter entry with a zero count\n",
        "c"
      ],
      "execution_count": 0,
      "outputs": [
        {
          "output_type": "execute_result",
          "data": {
            "text/plain": [
              "Counter({'eggs': 1, 'ham': 1, 'sausage': 0})"
            ]
          },
          "metadata": {
            "tags": []
          },
          "execution_count": 25
        }
      ]
    },
    {
      "cell_type": "code",
      "metadata": {
        "id": "YvUlo2kOtWaG",
        "colab_type": "code",
        "outputId": "b1fe7ff5-fa87-4dd0-f53e-0c0d2d88c071",
        "colab": {
          "base_uri": "https://localhost:8080/",
          "height": 34
        }
      },
      "source": [
        "c['sausage'] = 0                        # counter entry with a zero count\n",
        "del c['sausage']                        # del actually removes the entry\n",
        "c"
      ],
      "execution_count": 0,
      "outputs": [
        {
          "output_type": "execute_result",
          "data": {
            "text/plain": [
              "Counter({'eggs': 1, 'ham': 1})"
            ]
          },
          "metadata": {
            "tags": []
          },
          "execution_count": 27
        }
      ]
    },
    {
      "cell_type": "markdown",
      "metadata": {
        "id": "_pInWHBQwEZX",
        "colab_type": "text"
      },
      "source": [
        "### Elements\n",
        "#### Return an iterator over elements repeating each as many times as its count. Elements are returned in arbitrary order. If an element’s count is less than one, elements() will ignore it."
      ]
    },
    {
      "cell_type": "code",
      "metadata": {
        "id": "gOjiZEKgwHIB",
        "colab_type": "code",
        "outputId": "3a878cd3-9614-44ab-9b43-b43f7d4b9c25",
        "colab": {
          "base_uri": "https://localhost:8080/",
          "height": 34
        }
      },
      "source": [
        "c = Counter(a=4, b=2, c=0, d=-2)\n",
        "list(c.elements())"
      ],
      "execution_count": 0,
      "outputs": [
        {
          "output_type": "execute_result",
          "data": {
            "text/plain": [
              "['a', 'a', 'a', 'a', 'b', 'b']"
            ]
          },
          "metadata": {
            "tags": []
          },
          "execution_count": 21
        }
      ]
    },
    {
      "cell_type": "markdown",
      "metadata": {
        "id": "moNYl2sNufuA",
        "colab_type": "text"
      },
      "source": [
        "### Return a list of the n most common elements and their counts from the most common to the least. If n is omitted or None, most_common() returns all elements in the counter. Elements with equal counts are ordered randomly"
      ]
    },
    {
      "cell_type": "code",
      "metadata": {
        "id": "a6Wo70QMthgz",
        "colab_type": "code",
        "outputId": "cb4b56ff-44ef-4429-f4ae-834f6e7ca2a9",
        "colab": {
          "base_uri": "https://localhost:8080/",
          "height": 34
        }
      },
      "source": [
        " # It returns all the element in the order of occurence because nothing is in the bracket\n",
        "  Counter('abracadabra').most_common()"
      ],
      "execution_count": 0,
      "outputs": [
        {
          "output_type": "execute_result",
          "data": {
            "text/plain": [
              "[('a', 5), ('b', 2), ('r', 2), ('c', 1), ('d', 1)]"
            ]
          },
          "metadata": {
            "tags": []
          },
          "execution_count": 22
        }
      ]
    },
    {
      "cell_type": "code",
      "metadata": {
        "id": "YpiVZpWRvHx_",
        "colab_type": "code",
        "outputId": "0f5e75b1-d690-4757-aea9-7076f09f2f01",
        "colab": {
          "base_uri": "https://localhost:8080/",
          "height": 34
        }
      },
      "source": [
        "# most common three(3) elements\n",
        "Counter('abracadabra').most_common(3) "
      ],
      "execution_count": 0,
      "outputs": [
        {
          "output_type": "execute_result",
          "data": {
            "text/plain": [
              "[('a', 5), ('b', 2), ('r', 2)]"
            ]
          },
          "metadata": {
            "tags": []
          },
          "execution_count": 49
        }
      ]
    },
    {
      "cell_type": "markdown",
      "metadata": {
        "id": "7Q9wgrhD4ZUF",
        "colab_type": "text"
      },
      "source": [
        "### Returning the least common element"
      ]
    },
    {
      "cell_type": "code",
      "metadata": {
        "id": "AD0pdSIW1nlx",
        "colab_type": "code",
        "outputId": "b5bc0f05-b71c-42da-fcc9-07f1df9a6be7",
        "colab": {
          "base_uri": "https://localhost:8080/",
          "height": 34
        }
      },
      "source": [
        "c = Counter('abracadabra')       # n least common elements\n",
        "n = 2                            #n is the number of least common elements\n",
        "c.most_common()[:-n-1:-1]"
      ],
      "execution_count": 0,
      "outputs": [
        {
          "output_type": "execute_result",
          "data": {
            "text/plain": [
              "[('d', 1), ('c', 1)]"
            ]
          },
          "metadata": {
            "tags": []
          },
          "execution_count": 57
        }
      ]
    },
    {
      "cell_type": "markdown",
      "metadata": {
        "id": "RcYD3WybxCns",
        "colab_type": "text"
      },
      "source": [
        "### Subtract\n",
        "#### Elements are subtracted from an iterable or from another mapping (or counter). Like dict.update() but subtracts counts instead of replacing them. Both inputs and outputs may be zero or negative."
      ]
    },
    {
      "cell_type": "code",
      "metadata": {
        "id": "o--JN4Wmvd0B",
        "colab_type": "code",
        "outputId": "c5396298-ebb6-4389-a363-503ea66a2728",
        "colab": {
          "base_uri": "https://localhost:8080/",
          "height": 34
        }
      },
      "source": [
        "c = Counter(a=4, b=2, c=0, d=-2, e = 7)\n",
        "d = Counter(a=1, b=2, c=3, d=4)\n",
        "c.subtract(d)\n",
        "c"
      ],
      "execution_count": 0,
      "outputs": [
        {
          "output_type": "execute_result",
          "data": {
            "text/plain": [
              "Counter({'a': 3, 'b': 0, 'c': -3, 'd': -6, 'e': 7})"
            ]
          },
          "metadata": {
            "tags": []
          },
          "execution_count": 30
        }
      ]
    },
    {
      "cell_type": "markdown",
      "metadata": {
        "id": "ENl9gTdxzJD1",
        "colab_type": "text"
      },
      "source": [
        "### Sums the values given"
      ]
    },
    {
      "cell_type": "code",
      "metadata": {
        "id": "_2uXEhjCxVAO",
        "colab_type": "code",
        "outputId": "94ae6db1-2b58-4638-c846-2bf21173888f",
        "colab": {
          "base_uri": "https://localhost:8080/",
          "height": 34
        }
      },
      "source": [
        "c = Counter(a=4, b=2, c=0, d=-2, e= 7)\n",
        "sum(c.values()) "
      ],
      "execution_count": 0,
      "outputs": [
        {
          "output_type": "execute_result",
          "data": {
            "text/plain": [
              "11"
            ]
          },
          "metadata": {
            "tags": []
          },
          "execution_count": 59
        }
      ]
    },
    {
      "cell_type": "markdown",
      "metadata": {
        "id": "ruQGAu_7Cw4P",
        "colab_type": "text"
      },
      "source": [
        "### Counts the number of values\n"
      ]
    },
    {
      "cell_type": "code",
      "metadata": {
        "id": "KZXkysjMykHl",
        "colab_type": "code",
        "outputId": "a4aacc00-5e03-47b9-ee3b-7aaa4c740c8d",
        "colab": {
          "base_uri": "https://localhost:8080/",
          "height": 34
        }
      },
      "source": [
        "# counts the number of values\n",
        "c = Counter('adgf')\n",
        "sum(c.values()) "
      ],
      "execution_count": 0,
      "outputs": [
        {
          "output_type": "execute_result",
          "data": {
            "text/plain": [
              "4"
            ]
          },
          "metadata": {
            "tags": []
          },
          "execution_count": 42
        }
      ]
    },
    {
      "cell_type": "markdown",
      "metadata": {
        "id": "qf6b3pfwCrjI",
        "colab_type": "text"
      },
      "source": [
        "### List unique elements inclusive of special character"
      ]
    },
    {
      "cell_type": "code",
      "metadata": {
        "id": "VOpqnCpBzTad",
        "colab_type": "code",
        "outputId": "e2d6becb-3717-467f-bb30-7b771c997466",
        "colab": {
          "base_uri": "https://localhost:8080/",
          "height": 34
        }
      },
      "source": [
        "c = Counter('I am going to school')\n",
        "list(c)                         # list unique elements inclusive of special character"
      ],
      "execution_count": 0,
      "outputs": [
        {
          "output_type": "execute_result",
          "data": {
            "text/plain": [
              "['I', ' ', 'a', 'm', 'g', 'o', 'i', 'n', 't', 's', 'c', 'h', 'l']"
            ]
          },
          "metadata": {
            "tags": []
          },
          "execution_count": 48
        }
      ]
    },
    {
      "cell_type": "markdown",
      "metadata": {
        "id": "6Gfop3UpCmsF",
        "colab_type": "text"
      },
      "source": [
        "### convert to a regular dictionary"
      ]
    },
    {
      "cell_type": "code",
      "metadata": {
        "id": "aeNySixv0rqx",
        "colab_type": "code",
        "outputId": "a8236f79-9d4f-4310-8b37-324f67781464",
        "colab": {
          "base_uri": "https://localhost:8080/",
          "height": 238
        }
      },
      "source": [
        "dict(c)                         # convert to a regular dictionary"
      ],
      "execution_count": 0,
      "outputs": [
        {
          "output_type": "execute_result",
          "data": {
            "text/plain": [
              "{' ': 4,\n",
              " 'I': 1,\n",
              " 'a': 1,\n",
              " 'c': 1,\n",
              " 'g': 2,\n",
              " 'h': 1,\n",
              " 'i': 1,\n",
              " 'l': 1,\n",
              " 'm': 1,\n",
              " 'n': 1,\n",
              " 'o': 4,\n",
              " 's': 1,\n",
              " 't': 1}"
            ]
          },
          "metadata": {
            "tags": []
          },
          "execution_count": 47
        }
      ]
    },
    {
      "cell_type": "markdown",
      "metadata": {
        "id": "8jKCWDjCCjAG",
        "colab_type": "text"
      },
      "source": [
        "### convert to a list of (elem, cnt) pairs\n"
      ]
    },
    {
      "cell_type": "code",
      "metadata": {
        "id": "YLHPF_xJ1UVw",
        "colab_type": "code",
        "outputId": "fa52a30b-83d5-4288-e655-4202ef03106b",
        "colab": {
          "base_uri": "https://localhost:8080/",
          "height": 34
        }
      },
      "source": [
        "# convert to a list of (elem, cnt) pairs\n",
        "\n",
        "c = Counter('I am going to school')\n",
        "c.items()                       "
      ],
      "execution_count": 0,
      "outputs": [
        {
          "output_type": "execute_result",
          "data": {
            "text/plain": [
              "dict_items([('I', 1), (' ', 4), ('a', 1), ('m', 1), ('g', 2), ('o', 4), ('i', 1), ('n', 1), ('t', 1), ('s', 1), ('c', 1), ('h', 1), ('l', 1)])"
            ]
          },
          "metadata": {
            "tags": []
          },
          "execution_count": 66
        }
      ]
    },
    {
      "cell_type": "markdown",
      "metadata": {
        "id": "d1X8pfRnCWWM",
        "colab_type": "text"
      },
      "source": [
        "### Convert to a set"
      ]
    },
    {
      "cell_type": "code",
      "metadata": {
        "id": "gKo5dYcS9cC0",
        "colab_type": "code",
        "outputId": "c9b17546-b304-4db9-dfbc-66c3f9632e2c",
        "colab": {
          "base_uri": "https://localhost:8080/",
          "height": 34
        }
      },
      "source": [
        "# convert to a set\n",
        "set(c)                          "
      ],
      "execution_count": 0,
      "outputs": [
        {
          "output_type": "execute_result",
          "data": {
            "text/plain": [
              "{' ', 'I', 'a', 'c', 'g', 'h', 'i', 'l', 'm', 'n', 'o', 's', 't'}"
            ]
          },
          "metadata": {
            "tags": []
          },
          "execution_count": 67
        }
      ]
    },
    {
      "cell_type": "markdown",
      "metadata": {
        "id": "rbypz48ECNN-",
        "colab_type": "text"
      },
      "source": [
        "### Remove zero and negative counts\n"
      ]
    },
    {
      "cell_type": "code",
      "metadata": {
        "id": "NjHAemBE9rfA",
        "colab_type": "code",
        "outputId": "c981fdf3-4b94-4ce2-c755-9bcbe4b36499",
        "colab": {
          "base_uri": "https://localhost:8080/",
          "height": 34
        }
      },
      "source": [
        "# remove zero and negative counts\n",
        "\n",
        "c = Counter(a=4, b=2, c=0, d=-2, e= 7)\n",
        "c += Counter()                             \n",
        "c"
      ],
      "execution_count": 0,
      "outputs": [
        {
          "output_type": "execute_result",
          "data": {
            "text/plain": [
              "Counter({'a': 4, 'b': 2, 'e': 7})"
            ]
          },
          "metadata": {
            "tags": []
          },
          "execution_count": 64
        }
      ]
    },
    {
      "cell_type": "markdown",
      "metadata": {
        "id": "o4tnzeoWFSbM",
        "colab_type": "text"
      },
      "source": [
        "# Mathematical Operations"
      ]
    },
    {
      "cell_type": "markdown",
      "metadata": {
        "id": "K7tcBlaSDSKo",
        "colab_type": "text"
      },
      "source": [
        "### Addition Operation"
      ]
    },
    {
      "cell_type": "code",
      "metadata": {
        "id": "aj8afoXWC-3g",
        "colab_type": "code",
        "outputId": "20a7fa9e-6914-495b-d45c-470849884fce",
        "colab": {
          "base_uri": "https://localhost:8080/",
          "height": 34
        }
      },
      "source": [
        "c = Counter(a = 3, b = 4)\n",
        "d = Counter(a= 1, b = 2)\n",
        "\n",
        "c + d"
      ],
      "execution_count": 0,
      "outputs": [
        {
          "output_type": "execute_result",
          "data": {
            "text/plain": [
              "Counter({'a': 4, 'b': 6})"
            ]
          },
          "metadata": {
            "tags": []
          },
          "execution_count": 73
        }
      ]
    },
    {
      "cell_type": "markdown",
      "metadata": {
        "id": "nDz473qfDpvv",
        "colab_type": "text"
      },
      "source": [
        "### Subtraction Operation \n",
        "\n",
        "\n",
        "#### The upper value must the greater to get the answer to this operation. Check out the second equation"
      ]
    },
    {
      "cell_type": "code",
      "metadata": {
        "id": "aDs9b77UC_Fh",
        "colab_type": "code",
        "outputId": "ea677d01-bc02-490c-9830-d7f06b4a7e0f",
        "colab": {
          "base_uri": "https://localhost:8080/",
          "height": 34
        }
      },
      "source": [
        "c = Counter(a = 3, b = 4)\n",
        "d = Counter(a= 1, b = 2)\n",
        "c - d"
      ],
      "execution_count": 0,
      "outputs": [
        {
          "output_type": "execute_result",
          "data": {
            "text/plain": [
              "Counter({'a': 2, 'b': 2})"
            ]
          },
          "metadata": {
            "tags": []
          },
          "execution_count": 76
        }
      ]
    },
    {
      "cell_type": "code",
      "metadata": {
        "id": "8Zg4pUpiDbp5",
        "colab_type": "code",
        "outputId": "52eef538-bd2f-402f-878c-ff50f345eeb4",
        "colab": {
          "base_uri": "https://localhost:8080/",
          "height": 34
        }
      },
      "source": [
        "c = Counter(a = 3, b = 1)\n",
        "d = Counter(a= 1, b = 2)\n",
        "c - d"
      ],
      "execution_count": 0,
      "outputs": [
        {
          "output_type": "execute_result",
          "data": {
            "text/plain": [
              "Counter({'a': 2})"
            ]
          },
          "metadata": {
            "tags": []
          },
          "execution_count": 77
        }
      ]
    },
    {
      "cell_type": "markdown",
      "metadata": {
        "id": "_s8qny8FEMeB",
        "colab_type": "text"
      },
      "source": [
        "### Intersection operation\n",
        "\n",
        "\n",
        "#### This picks the minimum value. Check out the second operation"
      ]
    },
    {
      "cell_type": "code",
      "metadata": {
        "id": "7ONufqSoEFuY",
        "colab_type": "code",
        "outputId": "1537931b-39cc-4ea2-cabf-38610b5347b5",
        "colab": {
          "base_uri": "https://localhost:8080/",
          "height": 34
        }
      },
      "source": [
        "c = Counter(a = 3, b = 2)\n",
        "d = Counter(a= 1, b = 2)\n",
        "c & d"
      ],
      "execution_count": 0,
      "outputs": [
        {
          "output_type": "execute_result",
          "data": {
            "text/plain": [
              "Counter({'a': 1, 'b': 2})"
            ]
          },
          "metadata": {
            "tags": []
          },
          "execution_count": 80
        }
      ]
    },
    {
      "cell_type": "code",
      "metadata": {
        "id": "K3eS4boBEQtw",
        "colab_type": "code",
        "outputId": "19db4a5b-5de7-47fe-808c-610c8e646534",
        "colab": {
          "base_uri": "https://localhost:8080/",
          "height": 34
        }
      },
      "source": [
        "\n",
        "c = Counter(a = 3, b = 1)\n",
        "d = Counter(a= 1, b = 2)\n",
        "c & d"
      ],
      "execution_count": 0,
      "outputs": [
        {
          "output_type": "execute_result",
          "data": {
            "text/plain": [
              "Counter({'a': 1, 'b': 1})"
            ]
          },
          "metadata": {
            "tags": []
          },
          "execution_count": 81
        }
      ]
    },
    {
      "cell_type": "markdown",
      "metadata": {
        "id": "GuV5I17-Ev66",
        "colab_type": "text"
      },
      "source": [
        "### Union Operation\n",
        "\n",
        "#### This picks the maximum values "
      ]
    },
    {
      "cell_type": "code",
      "metadata": {
        "id": "Pmog609-EuwZ",
        "colab_type": "code",
        "outputId": "b2d6e66d-cc17-46b2-89a4-0ff73f54e934",
        "colab": {
          "base_uri": "https://localhost:8080/",
          "height": 34
        }
      },
      "source": [
        "c = Counter(a = 3, b = 1)\n",
        "d = Counter(a= 1, b = 2)\n",
        "c | d"
      ],
      "execution_count": 0,
      "outputs": [
        {
          "output_type": "execute_result",
          "data": {
            "text/plain": [
              "Counter({'a': 3, 'b': 2})"
            ]
          },
          "metadata": {
            "tags": []
          },
          "execution_count": 85
        }
      ]
    },
    {
      "cell_type": "code",
      "metadata": {
        "id": "7xabkV6SE34K",
        "colab_type": "code",
        "colab": {}
      },
      "source": [
        ""
      ],
      "execution_count": 0,
      "outputs": []
    }
  ]
}