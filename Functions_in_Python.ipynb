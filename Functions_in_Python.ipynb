{
  "nbformat": 4,
  "nbformat_minor": 0,
  "metadata": {
    "kernelspec": {
      "display_name": "Python 3",
      "language": "python",
      "name": "python3"
    },
    "language_info": {
      "codemirror_mode": {
        "name": "ipython",
        "version": 3
      },
      "file_extension": ".py",
      "mimetype": "text/x-python",
      "name": "python",
      "nbconvert_exporter": "python",
      "pygments_lexer": "ipython3",
      "version": "3.7.0"
    },
    "colab": {
      "name": "Functions in Python.ipynb",
      "provenance": []
    }
  },
  "cells": [
    {
      "cell_type": "code",
      "metadata": {
        "id": "HGzn7zqbBciI",
        "colab_type": "code",
        "colab": {}
      },
      "source": [
        "def volume_cylinder(height, radius, pi = 3.142):\n",
        "    volume = height * radius * pi\n",
        "    \n",
        "    return volume"
      ],
      "execution_count": null,
      "outputs": []
    },
    {
      "cell_type": "code",
      "metadata": {
        "id": "E0er8RBeBciN",
        "colab_type": "code",
        "colab": {},
        "outputId": "f1316d51-30e0-415c-a14e-6f4474bd6956"
      },
      "source": [
        "print(volume_cylinder(3,5))"
      ],
      "execution_count": null,
      "outputs": [
        {
          "output_type": "stream",
          "text": [
            "47.129999999999995\n"
          ],
          "name": "stdout"
        }
      ]
    },
    {
      "cell_type": "code",
      "metadata": {
        "id": "m8JjyoZnBciR",
        "colab_type": "code",
        "colab": {},
        "outputId": "56839377-f3bc-47d2-adc7-5c9c6fc69049"
      },
      "source": [
        "def population_density(population, land_area):\n",
        "   \n",
        "   density = population/land_area\n",
        "   \n",
        "   return density\n",
        "   \n",
        "# test cases for your function\n",
        "test1 = population_density(10, 1)\n",
        "expected_result1 = 10\n",
        "print(\"expected result: {}, actual result: {}\".format(expected_result1, test1))\n",
        "\n",
        "test2 = population_density(864816, 121.4)\n",
        "expected_result2 = 7123.6902801\n",
        "print(\"expected result: {}, actual result: {}\".format(expected_result2, test2))"
      ],
      "execution_count": null,
      "outputs": [
        {
          "output_type": "stream",
          "text": [
            "expected result: 10, actual result: 10.0\n",
            "expected result: 7123.6902801, actual result: 7123.690280065897\n"
          ],
          "name": "stdout"
        }
      ]
    },
    {
      "cell_type": "code",
      "metadata": {
        "id": "q9t0t5gTBciX",
        "colab_type": "code",
        "colab": {},
        "outputId": "953b08c7-c342-44a3-cf41-0e47aaa5c007"
      },
      "source": [
        "def readable_timedelta(days):\n",
        "    # use integer division to get the number of weeks\n",
        "    weeks = days // 7\n",
        "    # use % to get the number of days that remain\n",
        "    remainder = days % 7\n",
        "    return \"{} week(s) and {} day(s).\".format(weeks, remainder)\n",
        "\n",
        "# test your function\n",
        "print(readable_timedelta(30))"
      ],
      "execution_count": null,
      "outputs": [
        {
          "output_type": "stream",
          "text": [
            "4 week(s) and 2 day(s).\n"
          ],
          "name": "stdout"
        }
      ]
    },
    {
      "cell_type": "code",
      "metadata": {
        "id": "-UqnCjqbBcib",
        "colab_type": "code",
        "colab": {}
      },
      "source": [
        ""
      ],
      "execution_count": null,
      "outputs": []
    },
    {
      "cell_type": "code",
      "metadata": {
        "id": "zpKkgIAZBcie",
        "colab_type": "code",
        "colab": {}
      },
      "source": [
        ""
      ],
      "execution_count": null,
      "outputs": []
    },
    {
      "cell_type": "markdown",
      "metadata": {
        "id": "jBKgZ0oxBcii",
        "colab_type": "text"
      },
      "source": [
        "### Variable Scope"
      ]
    },
    {
      "cell_type": "code",
      "metadata": {
        "id": "gpVrt_PoBcii",
        "colab_type": "code",
        "colab": {},
        "outputId": "3280d22d-1d73-47b5-ef79-1dc5f2e8c330"
      },
      "source": [
        "egg_count = 0\n",
        "\n",
        "def buy_eggs():\n",
        "    egg_count += 12 # purchase a dozen eggs\n",
        "\n",
        "buy_eggs()"
      ],
      "execution_count": null,
      "outputs": [
        {
          "output_type": "error",
          "ename": "UnboundLocalError",
          "evalue": "local variable 'egg_count' referenced before assignment",
          "traceback": [
            "\u001b[1;31m---------------------------------------------------------------------------\u001b[0m",
            "\u001b[1;31mUnboundLocalError\u001b[0m                         Traceback (most recent call last)",
            "\u001b[1;32m<ipython-input-1-32dca0f4d031>\u001b[0m in \u001b[0;36m<module>\u001b[1;34m()\u001b[0m\n\u001b[0;32m      4\u001b[0m     \u001b[0megg_count\u001b[0m \u001b[1;33m+=\u001b[0m \u001b[1;36m12\u001b[0m \u001b[1;31m# purchase a dozen eggs\u001b[0m\u001b[1;33m\u001b[0m\u001b[0m\n\u001b[0;32m      5\u001b[0m \u001b[1;33m\u001b[0m\u001b[0m\n\u001b[1;32m----> 6\u001b[1;33m \u001b[0mbuy_eggs\u001b[0m\u001b[1;33m(\u001b[0m\u001b[1;33m)\u001b[0m\u001b[1;33m\u001b[0m\u001b[0m\n\u001b[0m",
            "\u001b[1;32m<ipython-input-1-32dca0f4d031>\u001b[0m in \u001b[0;36mbuy_eggs\u001b[1;34m()\u001b[0m\n\u001b[0;32m      2\u001b[0m \u001b[1;33m\u001b[0m\u001b[0m\n\u001b[0;32m      3\u001b[0m \u001b[1;32mdef\u001b[0m \u001b[0mbuy_eggs\u001b[0m\u001b[1;33m(\u001b[0m\u001b[1;33m)\u001b[0m\u001b[1;33m:\u001b[0m\u001b[1;33m\u001b[0m\u001b[0m\n\u001b[1;32m----> 4\u001b[1;33m     \u001b[0megg_count\u001b[0m \u001b[1;33m+=\u001b[0m \u001b[1;36m12\u001b[0m \u001b[1;31m# purchase a dozen eggs\u001b[0m\u001b[1;33m\u001b[0m\u001b[0m\n\u001b[0m\u001b[0;32m      5\u001b[0m \u001b[1;33m\u001b[0m\u001b[0m\n\u001b[0;32m      6\u001b[0m \u001b[0mbuy_eggs\u001b[0m\u001b[1;33m(\u001b[0m\u001b[1;33m)\u001b[0m\u001b[1;33m\u001b[0m\u001b[0m\n",
            "\u001b[1;31mUnboundLocalError\u001b[0m: local variable 'egg_count' referenced before assignment"
          ]
        }
      ]
    },
    {
      "cell_type": "code",
      "metadata": {
        "id": "LnjimsGUBcip",
        "colab_type": "code",
        "colab": {}
      },
      "source": [
        ""
      ],
      "execution_count": null,
      "outputs": []
    },
    {
      "cell_type": "code",
      "metadata": {
        "id": "V9Ulec8cBcit",
        "colab_type": "code",
        "colab": {},
        "outputId": "f364b7d4-dd45-487d-a7b9-1c486dee369b"
      },
      "source": [
        "# Correct way to achieve the above.\n",
        "egg_count = 0\n",
        "\n",
        "def buy_eggs(count):\n",
        "    #count += 12 or the below line of code\n",
        "    return count + 12 # purchase a dozen eggs\n",
        "\n",
        "egg_count = buy_eggs(egg_count)\n",
        "egg_count"
      ],
      "execution_count": null,
      "outputs": [
        {
          "output_type": "execute_result",
          "data": {
            "text/plain": [
              "12"
            ]
          },
          "metadata": {
            "tags": []
          },
          "execution_count": 11
        }
      ]
    },
    {
      "cell_type": "code",
      "metadata": {
        "id": "q5dvFV8SBcix",
        "colab_type": "code",
        "colab": {},
        "outputId": "cf96c786-2e15-4e80-fb7b-f3c5eb3e984b"
      },
      "source": [
        "egg_count = 0\n",
        "\n",
        "def buy_eggs(count):\n",
        "    count += 12 \n",
        "    return count # purchase a dozen eggs\n",
        "\n",
        "egg_count = buy_eggs(egg_count)\n",
        "egg_count"
      ],
      "execution_count": null,
      "outputs": [
        {
          "output_type": "execute_result",
          "data": {
            "text/plain": [
              "12"
            ]
          },
          "metadata": {
            "tags": []
          },
          "execution_count": 15
        }
      ]
    },
    {
      "cell_type": "code",
      "metadata": {
        "id": "1_cmnVDPBci0",
        "colab_type": "code",
        "colab": {},
        "outputId": "59ca3d74-ad66-4cf0-edb7-87e4688ac17d"
      },
      "source": [
        "str1 = 'Functions are important programming concepts.'\n",
        "\n",
        "def print_fn():\n",
        "    #str1 = 'Variable scope is an important concept.'\n",
        "    print(str1)\n",
        "\n",
        "print_fn()"
      ],
      "execution_count": null,
      "outputs": [
        {
          "output_type": "stream",
          "text": [
            "Functions are important programming concepts.\n"
          ],
          "name": "stdout"
        }
      ]
    },
    {
      "cell_type": "code",
      "metadata": {
        "id": "LwtFONHaBci4",
        "colab_type": "code",
        "colab": {}
      },
      "source": [
        ""
      ],
      "execution_count": null,
      "outputs": []
    },
    {
      "cell_type": "code",
      "metadata": {
        "id": "zK8QqL6YBci8",
        "colab_type": "code",
        "colab": {},
        "outputId": "ccce5adf-fe47-4f2e-c31f-9e173dfdce03"
      },
      "source": [
        "# Global Scope\n",
        "x = 100\n",
        "\n",
        "def num():\n",
        "    print(x)\n",
        "    \n",
        "num()"
      ],
      "execution_count": null,
      "outputs": [
        {
          "output_type": "stream",
          "text": [
            "100\n"
          ],
          "name": "stdout"
        }
      ]
    },
    {
      "cell_type": "code",
      "metadata": {
        "id": "L4xcTURZBci_",
        "colab_type": "code",
        "colab": {},
        "outputId": "c3e654c2-9027-45c9-a696-27d7b00b7d97"
      },
      "source": [
        "# Local Scope\n",
        "def num():\n",
        "    global x\n",
        "    print(x)\n",
        "    x = 1000\n",
        "    \n",
        "num()"
      ],
      "execution_count": null,
      "outputs": [
        {
          "output_type": "stream",
          "text": [
            "100\n"
          ],
          "name": "stdout"
        }
      ]
    },
    {
      "cell_type": "code",
      "metadata": {
        "id": "3FqxLZpxBcjC",
        "colab_type": "code",
        "colab": {},
        "outputId": "e3eafa5a-8ade-48a1-c6b6-e55051cbd545"
      },
      "source": [
        "def num():\n",
        "    x = 1000\n",
        "    print(x)\n",
        "   # x = 1000\n",
        "    \n",
        "num()"
      ],
      "execution_count": null,
      "outputs": [
        {
          "output_type": "stream",
          "text": [
            "1000\n"
          ],
          "name": "stdout"
        }
      ]
    },
    {
      "cell_type": "code",
      "metadata": {
        "id": "edZJ9qvvBcjF",
        "colab_type": "code",
        "colab": {}
      },
      "source": [
        ""
      ],
      "execution_count": null,
      "outputs": []
    },
    {
      "cell_type": "markdown",
      "metadata": {
        "id": "d9qqbS8rBcjH",
        "colab_type": "text"
      },
      "source": [
        "#### Function 1"
      ]
    },
    {
      "cell_type": "code",
      "metadata": {
        "id": "MTuoirkzBcjI",
        "colab_type": "code",
        "colab": {}
      },
      "source": [
        "def resources( x = []):\n",
        "    x.append(1)\n",
        "    print(x)\n"
      ],
      "execution_count": null,
      "outputs": []
    },
    {
      "cell_type": "code",
      "metadata": {
        "id": "igMmAZZeBcjK",
        "colab_type": "code",
        "colab": {},
        "outputId": "bcf78fcb-b542-4895-87c4-64cb9e64b774"
      },
      "source": [
        "resources([5])     #default not used"
      ],
      "execution_count": null,
      "outputs": [
        {
          "output_type": "stream",
          "text": [
            "[5, 1]\n"
          ],
          "name": "stdout"
        }
      ]
    },
    {
      "cell_type": "code",
      "metadata": {
        "id": "DM7jvvjBBcjO",
        "colab_type": "code",
        "colab": {},
        "outputId": "b4cc8672-2e81-4ed9-9cfd-04f46fab59a5"
      },
      "source": [
        "resources([1])"
      ],
      "execution_count": null,
      "outputs": [
        {
          "output_type": "stream",
          "text": [
            "[1, 1]\n"
          ],
          "name": "stdout"
        }
      ]
    },
    {
      "cell_type": "code",
      "metadata": {
        "id": "Gac5on3gBcjR",
        "colab_type": "code",
        "colab": {},
        "outputId": "34c8348b-8069-4b63-aa24-ccaf93477363"
      },
      "source": [
        "resources()   #default"
      ],
      "execution_count": null,
      "outputs": [
        {
          "output_type": "stream",
          "text": [
            "[1]\n"
          ],
          "name": "stdout"
        }
      ]
    },
    {
      "cell_type": "code",
      "metadata": {
        "id": "Z09xrA1WBcjV",
        "colab_type": "code",
        "colab": {},
        "outputId": "26a35c8e-6522-473a-e4ca-c4e8674589ed"
      },
      "source": [
        "#Growing together\n",
        "resources()"
      ],
      "execution_count": null,
      "outputs": [
        {
          "output_type": "stream",
          "text": [
            "[1, 1, 1]\n"
          ],
          "name": "stdout"
        }
      ]
    },
    {
      "cell_type": "code",
      "metadata": {
        "id": "SpyxP1V3BcjZ",
        "colab_type": "code",
        "colab": {},
        "outputId": "0e6b7fbc-7791-43d0-dde7-f32d3b4801fc"
      },
      "source": [
        "resources()"
      ],
      "execution_count": null,
      "outputs": [
        {
          "output_type": "stream",
          "text": [
            "[1, 1, 1, 1]\n"
          ],
          "name": "stdout"
        }
      ]
    },
    {
      "cell_type": "code",
      "metadata": {
        "id": "V111B94hBcjd",
        "colab_type": "code",
        "colab": {}
      },
      "source": [
        ""
      ],
      "execution_count": null,
      "outputs": []
    },
    {
      "cell_type": "markdown",
      "metadata": {
        "id": "sPeiwNNABcji",
        "colab_type": "text"
      },
      "source": [
        "#### Function 2"
      ]
    },
    {
      "cell_type": "code",
      "metadata": {
        "id": "jEkQC7MGBcjj",
        "colab_type": "code",
        "colab": {}
      },
      "source": [
        "def res(x = None):\n",
        "    if x is None:\n",
        "        x = []\n",
        "        \n",
        "    x.append(1)\n",
        "    print(x)"
      ],
      "execution_count": null,
      "outputs": []
    },
    {
      "cell_type": "code",
      "metadata": {
        "id": "wFERQURqBcjm",
        "colab_type": "code",
        "colab": {},
        "outputId": "0218f258-ec83-44d1-9282-6f52d6bfad5a"
      },
      "source": [
        "res([2])"
      ],
      "execution_count": null,
      "outputs": [
        {
          "output_type": "stream",
          "text": [
            "[2, 1]\n"
          ],
          "name": "stdout"
        }
      ]
    },
    {
      "cell_type": "code",
      "metadata": {
        "id": "y5ghLyenBcjr",
        "colab_type": "code",
        "colab": {},
        "outputId": "9943e433-6387-4afe-f854-065f9d8c6b1a"
      },
      "source": [
        "res()     # It doesnot grow because x is initaialsed to None"
      ],
      "execution_count": null,
      "outputs": [
        {
          "output_type": "stream",
          "text": [
            "[1]\n"
          ],
          "name": "stdout"
        }
      ]
    },
    {
      "cell_type": "markdown",
      "metadata": {
        "id": "FEfNFkAEBcjv",
        "colab_type": "text"
      },
      "source": [
        "#### Function 3"
      ]
    },
    {
      "cell_type": "code",
      "metadata": {
        "id": "BK9k3wwzBcjv",
        "colab_type": "code",
        "colab": {},
        "outputId": "5675520f-90ac-40be-e51f-9ef745889eeb"
      },
      "source": [
        "def saver():\n",
        "    saver.x.append(1)        \n",
        "    print(saver.x)\n",
        "\n",
        "saver.x = []\n",
        "saver()"
      ],
      "execution_count": null,
      "outputs": [
        {
          "output_type": "stream",
          "text": [
            "[1]\n"
          ],
          "name": "stdout"
        }
      ]
    },
    {
      "cell_type": "code",
      "metadata": {
        "id": "ZhEM7iFQBcjx",
        "colab_type": "code",
        "colab": {},
        "outputId": "90b1b756-52a2-452e-ec51-1b378a1dafea"
      },
      "source": [
        "saver()"
      ],
      "execution_count": null,
      "outputs": [
        {
          "output_type": "stream",
          "text": [
            "[1, 1]\n"
          ],
          "name": "stdout"
        }
      ]
    },
    {
      "cell_type": "code",
      "metadata": {
        "id": "D-4T28CvBcj0",
        "colab_type": "code",
        "colab": {},
        "outputId": "5c649260-206d-4753-f206-578608cb0db8"
      },
      "source": [
        "saver()"
      ],
      "execution_count": null,
      "outputs": [
        {
          "output_type": "stream",
          "text": [
            "[1, 1, 1]\n"
          ],
          "name": "stdout"
        }
      ]
    },
    {
      "cell_type": "code",
      "metadata": {
        "id": "Eoymh6TzBcj3",
        "colab_type": "code",
        "colab": {}
      },
      "source": [
        ""
      ],
      "execution_count": null,
      "outputs": []
    },
    {
      "cell_type": "code",
      "metadata": {
        "id": "ZiW7XaQYBcj7",
        "colab_type": "code",
        "colab": {}
      },
      "source": [
        ""
      ],
      "execution_count": null,
      "outputs": []
    },
    {
      "cell_type": "code",
      "metadata": {
        "id": "0V3dZdVyBcj9",
        "colab_type": "code",
        "colab": {}
      },
      "source": [
        ""
      ],
      "execution_count": null,
      "outputs": []
    },
    {
      "cell_type": "code",
      "metadata": {
        "id": "wSv277xjBcj_",
        "colab_type": "code",
        "colab": {},
        "outputId": "564e643c-4c92-40fb-8732-642324db14b3"
      },
      "source": [
        "#Using Lambda \n",
        "\n",
        "#Function_name = lambda_keyword variable_name: function_assignment\n",
        "\n",
        "tripple = lambda num: num * 2\n",
        "tripple(3)"
      ],
      "execution_count": null,
      "outputs": [
        {
          "output_type": "execute_result",
          "data": {
            "text/plain": [
              "6"
            ]
          },
          "metadata": {
            "tags": []
          },
          "execution_count": 18
        }
      ]
    },
    {
      "cell_type": "code",
      "metadata": {
        "id": "JhBVjO-bBckB",
        "colab_type": "code",
        "colab": {},
        "outputId": "69485a66-2cc4-4ff2-f65c-d20dfce94336"
      },
      "source": [
        "tripple = lambda num1, num2, num3, num4: num1*num2*num3*num4 \n",
        "tripple(2,3,4,5)"
      ],
      "execution_count": null,
      "outputs": [
        {
          "output_type": "execute_result",
          "data": {
            "text/plain": [
              "120"
            ]
          },
          "metadata": {
            "tags": []
          },
          "execution_count": 19
        }
      ]
    },
    {
      "cell_type": "code",
      "metadata": {
        "id": "E0RYmjLmBckE",
        "colab_type": "code",
        "colab": {}
      },
      "source": [
        ""
      ],
      "execution_count": null,
      "outputs": []
    },
    {
      "cell_type": "markdown",
      "metadata": {
        "id": "JPpOrr-ABckG",
        "colab_type": "text"
      },
      "source": [
        "### Lambda with map"
      ]
    },
    {
      "cell_type": "code",
      "metadata": {
        "id": "Kl5359a7BckH",
        "colab_type": "code",
        "colab": {},
        "outputId": "a2f3fc81-2bba-4ebe-8bcd-26ffeb437771"
      },
      "source": [
        "numbers = [\n",
        "              [34, 63, 88, 71, 29],\n",
        "              [90, 78, 51, 27, 45],\n",
        "              [63, 37, 85, 46, 22],\n",
        "              [51, 22, 34, 11, 18]\n",
        "           ]\n",
        "\n",
        "def mean(num_list):\n",
        "    return sum(num_list) / len(num_list)\n",
        "\n",
        "averages = list(map(mean, numbers))\n",
        "print(averages)"
      ],
      "execution_count": null,
      "outputs": [
        {
          "output_type": "stream",
          "text": [
            "[57.0, 58.2, 50.6, 27.2]\n"
          ],
          "name": "stdout"
        }
      ]
    },
    {
      "cell_type": "code",
      "metadata": {
        "id": "qNyIxNcZBckL",
        "colab_type": "code",
        "colab": {}
      },
      "source": [
        ""
      ],
      "execution_count": null,
      "outputs": []
    },
    {
      "cell_type": "code",
      "metadata": {
        "id": "OiccmhIaBckN",
        "colab_type": "code",
        "colab": {},
        "outputId": "4b0d0976-eadd-4965-cdff-ac4e85dd04c6"
      },
      "source": [
        "numbers = [\n",
        "              [34, 63, 88, 71, 29],\n",
        "              [90, 78, 51, 27, 45],\n",
        "              [63, 37, 85, 46, 22],\n",
        "              [51, 22, 34, 11, 18]\n",
        "           ]\n",
        "\n",
        "averages = list(map(lambda x: sum(x) / len(x), numbers))\n",
        "print(averages)\n"
      ],
      "execution_count": null,
      "outputs": [
        {
          "output_type": "stream",
          "text": [
            "[57.0, 58.2, 50.6, 27.2]\n"
          ],
          "name": "stdout"
        }
      ]
    },
    {
      "cell_type": "code",
      "metadata": {
        "id": "cB7KnTEUBckR",
        "colab_type": "code",
        "colab": {}
      },
      "source": [
        ""
      ],
      "execution_count": null,
      "outputs": []
    },
    {
      "cell_type": "markdown",
      "metadata": {
        "id": "fheZKG-tBckU",
        "colab_type": "text"
      },
      "source": [
        "### Lambda with filter"
      ]
    },
    {
      "cell_type": "code",
      "metadata": {
        "id": "yZD70X3NBckV",
        "colab_type": "code",
        "colab": {},
        "outputId": "f06190d8-ee83-4bc4-eb7a-20ad686f0f68"
      },
      "source": [
        "cities = [\"New York City\", \"Los Angeles\", \"Chicago\", \"Mountain View\", \"Denver\", \"Boston\"]\n",
        "\n",
        "def is_short(name):\n",
        "    return len(name) < 10\n",
        "\n",
        "short_cities = list(filter(is_short, cities))\n",
        "print(short_cities)"
      ],
      "execution_count": null,
      "outputs": [
        {
          "output_type": "stream",
          "text": [
            "['Chicago', 'Denver', 'Boston']\n"
          ],
          "name": "stdout"
        }
      ]
    },
    {
      "cell_type": "code",
      "metadata": {
        "id": "elLn-6p8Bckb",
        "colab_type": "code",
        "colab": {}
      },
      "source": [
        ""
      ],
      "execution_count": null,
      "outputs": []
    },
    {
      "cell_type": "code",
      "metadata": {
        "id": "aqLmgL1KBcke",
        "colab_type": "code",
        "colab": {},
        "outputId": "fe9631a5-35f4-4ee5-d382-0b7057e5b4af"
      },
      "source": [
        "cities = [\"New York City\", \"Los Angeles\", \"Chicago\", \"Mountain View\", \"Denver\", \"Boston\"]\n",
        "\n",
        "short_cities = list(filter(lambda x: len(x) < 10, cities))\n",
        "print(short_cities)"
      ],
      "execution_count": null,
      "outputs": [
        {
          "output_type": "stream",
          "text": [
            "['Chicago', 'Denver', 'Boston']\n"
          ],
          "name": "stdout"
        }
      ]
    },
    {
      "cell_type": "code",
      "metadata": {
        "id": "plryVDI0Bckh",
        "colab_type": "code",
        "colab": {}
      },
      "source": [
        ""
      ],
      "execution_count": null,
      "outputs": []
    }
  ]
}